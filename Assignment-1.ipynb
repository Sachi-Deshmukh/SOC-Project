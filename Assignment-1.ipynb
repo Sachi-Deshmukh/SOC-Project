{
 "cells": [
  {
   "cell_type": "code",
   "execution_count": 1,
   "id": "def8bd8e",
   "metadata": {},
   "outputs": [
    {
     "name": "stdout",
     "output_type": "stream",
     "text": [
      "[1, 3, 5, 7, 9]\n"
     ]
    }
   ],
   "source": [
    "def filter_odd_numbers(arr):\n",
    "    return [x for x in arr if x % 2 != 0]\n",
    "arr = [1, 2, 3, 4, 5, 6, 7, 8, 9]\n",
    "odd_numbers = filter_odd_numbers(arr)\n",
    "print(odd_numbers)  # Output: [1, 3, 5, 7, 9]\n"
   ]
  },
  {
   "cell_type": "code",
   "execution_count": 2,
   "id": "269ed4d1",
   "metadata": {},
   "outputs": [
    {
     "name": "stdout",
     "output_type": "stream",
     "text": [
      "Max says Woof!\n"
     ]
    }
   ],
   "source": [
    "class Dog:\n",
    "    def __init__(self, name, breed):\n",
    "        self.name = name\n",
    "        self.breed = breed\n",
    "    \n",
    "    def bark(self):\n",
    "        print(f\"{self.name} says Woof!\")\n",
    "my_dog = Dog(\"Max\", \"Golden Retriever\")\n",
    "my_dog.bark() # Output: \"Max says Woof!\"\n"
   ]
  },
  {
   "cell_type": "code",
   "execution_count": 3,
   "id": "4cdeee56",
   "metadata": {},
   "outputs": [
    {
     "name": "stdout",
     "output_type": "stream",
     "text": [
      "Measures of central tendency:\n",
      "Mean: 48.81\n",
      "Median: 45.0\n",
      "\n",
      "Measures of spread:\n",
      "Standard deviation: 30.972147164831824\n",
      "Range: 98\n"
     ]
    }
   ],
   "source": [
    "import numpy as np\n",
    "\n",
    "# Create a numpy array of 100 random integers between 0 and 100\n",
    "arr = np.random.randint(0, 100, 100)\n",
    "\n",
    "# Print the measures of central tendency\n",
    "print(\"Measures of central tendency:\")\n",
    "print(f\"Mean: {np.mean(arr)}\")\n",
    "print(f\"Median: {np.median(arr)}\")\n",
    "\n",
    "# Print the measures of spread\n",
    "print(\"\\nMeasures of spread:\")\n",
    "print(f\"Standard deviation: {np.std(arr)}\")\n",
    "print(f\"Range: {np.ptp(arr)}\")\n"
   ]
  },
  {
   "cell_type": "code",
   "execution_count": 4,
   "id": "a64c057d",
   "metadata": {},
   "outputs": [
    {
     "name": "stdout",
     "output_type": "stream",
     "text": [
      "Enter the length of the array: 5\n",
      "Enter element 1: 2\n",
      "Enter element 2: 4\n",
      "Enter element 3: 3\n",
      "Enter element 4: 1\n",
      "Enter element 5: 5\n",
      "[1, 2, 3, 4, 5]\n"
     ]
    }
   ],
   "source": [
    "class MyClass:\n",
    "    def __init__(self):\n",
    "        self.array = []\n",
    "    \n",
    "    def get_array(self):\n",
    "        length = int(input(\"Enter the length of the array: \"))\n",
    "        for i in range(length):\n",
    "            elem = int(input(f\"Enter element {i+1}: \"))\n",
    "            self.array.append(elem)\n",
    "        self.array.sort()\n",
    "        return self.array\n",
    "my_obj = MyClass()\n",
    "sorted_array = my_obj.get_array()\n",
    "print(sorted_array)\n"
   ]
  },
  {
   "cell_type": "code",
   "execution_count": 5,
   "id": "c25f26c5",
   "metadata": {},
   "outputs": [
    {
     "name": "stdout",
     "output_type": "stream",
     "text": [
      "Diagonal elements: [ 1  6 11 16]\n",
      "Trace: 34\n",
      "Max element of each row: [ 4  8 12 16]\n",
      "Min element of each row: [ 1  5  9 13]\n"
     ]
    }
   ],
   "source": [
    "import numpy as np\n",
    "\n",
    "# Create a 2D array of size 4x4 using a list\n",
    "my_list = [[1, 2, 3, 4],\n",
    "           [5, 6, 7, 8],\n",
    "           [9, 10, 11, 12],\n",
    "           [13, 14, 15, 16]]\n",
    "\n",
    "# Convert the list to a numpy array\n",
    "my_array = np.array(my_list)\n",
    "\n",
    "# Extract the diagonal elements from the array\n",
    "diagonal = np.diag(my_array)\n",
    "print(\"Diagonal elements:\", diagonal)\n",
    "\n",
    "# Find the trace of the matrix\n",
    "trace = np.trace(my_array)\n",
    "print(\"Trace:\", trace)\n",
    "\n",
    "# Find the max and min element of each row in the matrix\n",
    "max_row = np.amax(my_array, axis=1)\n",
    "min_row = np.amin(my_array, axis=1)\n",
    "print(\"Max element of each row:\", max_row)\n",
    "print(\"Min element of each row:\", min_row)\n"
   ]
  },
  {
   "cell_type": "code",
   "execution_count": 8,
   "id": "dbd681e9",
   "metadata": {},
   "outputs": [
    {
     "name": "stdout",
     "output_type": "stream",
     "text": [
      "[[0.46577655 0.84695714 0.7074802  0.2720224  0.21436621]\n",
      " [0.90391759 0.83462704 0.87630419 0.81244449 0.28049731]\n",
      " [0.19756557 0.70309261 0.77712097 0.12122324 0.14248043]\n",
      " [0.34702125 0.02126157 0.9096     0.48453868 0.06332528]]\n"
     ]
    }
   ],
   "source": [
    "import numpy as np\n",
    "\n",
    "# Create a 2D numpy array with shape (4, 5) where each element is a random float between 0 and 1\n",
    "my_array = np.random.uniform(low=0, high=1, size=(4, 5))\n",
    "\n",
    "# Print the resulting numpy array\n",
    "print(my_array)\n"
   ]
  },
  {
   "cell_type": "code",
   "execution_count": 10,
   "id": "cc7e682d",
   "metadata": {},
   "outputs": [
    {
     "name": "stdout",
     "output_type": "stream",
     "text": [
      "[[ 1.63317037  5.11884618 24.99871987  5.75071389]\n",
      " [ 9.1986288  11.95385768 28.0328142  32.80612453]\n",
      " [43.29118394  8.17317588 12.80795151 60.19529647]\n",
      " [50.0545511  90.90879597 23.49252506  9.38916249]]\n"
     ]
    }
   ],
   "source": [
    "import numpy as np\n",
    "\n",
    "# Create a 2D numpy array with shape (4, 4) where each element is a random integer between 0 and 100\n",
    "my_array_a = np.random.randint(low=0, high=100, size=(4, 4))\n",
    "\n",
    "# Create a 2D numpy array with shape (4, 5) where each element is a random float between 0 and 1\n",
    "my_array_b = np.random.uniform(low=0, high=1, size=(4, 4))\n",
    "\n",
    "# Multiply the numpy arrays created in Part A and Part B element-wise\n",
    "result_array = my_array_a * my_array_b\n",
    "\n",
    "# Print the resulting numpy array\n",
    "print(result_array)\n"
   ]
  },
  {
   "cell_type": "code",
   "execution_count": 12,
   "id": "b18aa222",
   "metadata": {},
   "outputs": [
    {
     "name": "stdout",
     "output_type": "stream",
     "text": [
      "[39.63111111 39.17142857 40.386      38.04869565 33.76666667 30.94142857\n",
      " 24.51952381 26.08380952 30.363      32.95421053 31.89869565 28.61578947\n",
      " 28.214     ]\n"
     ]
    }
   ],
   "source": [
    "import pandas as pd\n",
    "import numpy as np\n",
    "\n",
    "# Read in the CSV file and create a pandas dataframe with the data\n",
    "df = pd.read_csv('DataSet.csv')\n",
    "\n",
    "# Convert the 'Date' column to datetime format\n",
    "df['Date'] = pd.to_datetime(df['Date'])\n",
    "\n",
    "# Set the 'Date' column as the index of the dataframe\n",
    "df.set_index('Date', inplace=True)\n",
    "\n",
    "# Use pandas resample to group the data by month and calculate the mean closing price for each month\n",
    "monthly_avg_close = df.resample('M')['Close'].mean()\n",
    "\n",
    "# Convert the resulting pandas series to a numpy array\n",
    "monthly_avg_close_np = monthly_avg_close.to_numpy()\n",
    "\n",
    "# Print the resulting numpy array\n",
    "print(monthly_avg_close_np)\n"
   ]
  },
  {
   "cell_type": "code",
   "execution_count": null,
   "id": "54ce10ad",
   "metadata": {},
   "outputs": [],
   "source": []
  },
  {
   "cell_type": "code",
   "execution_count": null,
   "id": "f861416a",
   "metadata": {},
   "outputs": [],
   "source": []
  }
 ],
 "metadata": {
  "kernelspec": {
   "display_name": "Python 3 (ipykernel)",
   "language": "python",
   "name": "python3"
  },
  "language_info": {
   "codemirror_mode": {
    "name": "ipython",
    "version": 3
   },
   "file_extension": ".py",
   "mimetype": "text/x-python",
   "name": "python",
   "nbconvert_exporter": "python",
   "pygments_lexer": "ipython3",
   "version": "3.11.3"
  }
 },
 "nbformat": 4,
 "nbformat_minor": 5
}
